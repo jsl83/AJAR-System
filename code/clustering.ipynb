{
 "cells": [
  {
   "cell_type": "markdown",
   "metadata": {},
   "source": [
    "# Vectorizing and Clustering\n",
    "\n",
    "This notebook contains the code for the initial feature creation using a Tfidf-vectorizer applied to the abstract of each paper. Since it would be time consuming to run feature creation each day when new data is collected, the initial data set of ~18,000 papers was used to fit the vectorizer which is then applied generally for all future papers. This fit \"model\" is pickled and utilized during the daily collection.\n",
    "\n",
    "I also investigate here parameters for clustering. Since I am dealing with text data, which is often very messy, I am not expecting very strong clustering, but the objective is to create clusters with more generalized features such that a single paper does not skew recommendations too highly. I perform a \"grid search\" of sorts, with the metric being silhouette score. In addition, another metric evaluated was the difference between the best cluster and the \"true cluster\" which is elaborated more below"
   ]
  },
  {
   "cell_type": "code",
   "execution_count": 1,
   "metadata": {},
   "outputs": [],
   "source": [
    "# Import relevant libraries\n",
    "\n",
    "import numpy as np\n",
    "import pandas as pd\n",
    "import pyodbc\n",
    "import re\n",
    "import random\n",
    "import csv\n",
    "import pickle\n",
    "import matplotlib.pyplot as plt\n",
    "from scipy import sparse\n",
    "from nltk.stem.wordnet import WordNetLemmatizer\n",
    "from sklearn.feature_extraction.text import TfidfVectorizer\n",
    "from sklearn.metrics.pairwise import cosine_similarity\n",
    "from sklearn.cluster import KMeans\n",
    "from sklearn.metrics import silhouette_score"
   ]
  },
  {
   "cell_type": "code",
   "execution_count": 2,
   "metadata": {},
   "outputs": [
    {
     "data": {
      "text/html": [
       "<div>\n",
       "<style scoped>\n",
       "    .dataframe tbody tr th:only-of-type {\n",
       "        vertical-align: middle;\n",
       "    }\n",
       "\n",
       "    .dataframe tbody tr th {\n",
       "        vertical-align: top;\n",
       "    }\n",
       "\n",
       "    .dataframe thead th {\n",
       "        text-align: right;\n",
       "    }\n",
       "</style>\n",
       "<table border=\"1\" class=\"dataframe\">\n",
       "  <thead>\n",
       "    <tr style=\"text-align: right;\">\n",
       "      <th></th>\n",
       "      <th>abstract</th>\n",
       "      <th>id</th>\n",
       "      <th>title</th>\n",
       "      <th>journal</th>\n",
       "    </tr>\n",
       "  </thead>\n",
       "  <tbody>\n",
       "    <tr>\n",
       "      <th>8013</th>\n",
       "      <td>The possibility of the inference of neural net...</td>\n",
       "      <td>1</td>\n",
       "      <td>Applicability of Minifloats for Efficient Calc...</td>\n",
       "      <td>Optoelectronics, Instrumentation and Data Proc...</td>\n",
       "    </tr>\n",
       "    <tr>\n",
       "      <th>8014</th>\n",
       "      <td>This paper first considers an approach based o...</td>\n",
       "      <td>2</td>\n",
       "      <td>Application of Capacitive Microstructures as A...</td>\n",
       "      <td>Optoelectronics, Instrumentation and Data Proc...</td>\n",
       "    </tr>\n",
       "    <tr>\n",
       "      <th>8015</th>\n",
       "      <td>A new method is proposed for automatic classif...</td>\n",
       "      <td>3</td>\n",
       "      <td>Classification of Seismoacoustic Emission Sour...</td>\n",
       "      <td>Optoelectronics, Instrumentation and Data Proc...</td>\n",
       "    </tr>\n",
       "    <tr>\n",
       "      <th>8016</th>\n",
       "      <td>Constitutive steady-state creep equations are ...</td>\n",
       "      <td>4</td>\n",
       "      <td>Construction of Constitutive Equations for Ort...</td>\n",
       "      <td>Journal of Applied Mechanics and Technical Phy...</td>\n",
       "    </tr>\n",
       "    <tr>\n",
       "      <th>8017</th>\n",
       "      <td>Known models were used to investigate the dela...</td>\n",
       "      <td>5</td>\n",
       "      <td>Delamination of a Coating from an Elastic Subs...</td>\n",
       "      <td>Journal of Applied Mechanics and Technical Phy...</td>\n",
       "    </tr>\n",
       "  </tbody>\n",
       "</table>\n",
       "</div>"
      ],
      "text/plain": [
       "                                               abstract  id  \\\n",
       "8013  The possibility of the inference of neural net...   1   \n",
       "8014  This paper first considers an approach based o...   2   \n",
       "8015  A new method is proposed for automatic classif...   3   \n",
       "8016  Constitutive steady-state creep equations are ...   4   \n",
       "8017  Known models were used to investigate the dela...   5   \n",
       "\n",
       "                                                  title  \\\n",
       "8013  Applicability of Minifloats for Efficient Calc...   \n",
       "8014  Application of Capacitive Microstructures as A...   \n",
       "8015  Classification of Seismoacoustic Emission Sour...   \n",
       "8016  Construction of Constitutive Equations for Ort...   \n",
       "8017  Delamination of a Coating from an Elastic Subs...   \n",
       "\n",
       "                                                journal  \n",
       "8013  Optoelectronics, Instrumentation and Data Proc...  \n",
       "8014  Optoelectronics, Instrumentation and Data Proc...  \n",
       "8015  Optoelectronics, Instrumentation and Data Proc...  \n",
       "8016  Journal of Applied Mechanics and Technical Phy...  \n",
       "8017  Journal of Applied Mechanics and Technical Phy...  "
      ]
     },
     "execution_count": 2,
     "metadata": {},
     "output_type": "execute_result"
    }
   ],
   "source": [
    "# Pull all of the collected data from the SQL database and create a dataframe\n",
    "\n",
    "cnxn = pyodbc.connect('DRIVER={ODBC Driver 17 for SQL Server};SERVER=ga-cc12-s5.database.windows.net;DATABASE=capstone;UID=[REDACTED];PWD=[REDACTED]')\n",
    "cursor = cnxn.cursor()\n",
    "info = list(cursor.execute(\"SELECT abstract, id, title, journal FROM papers\").fetchall())\n",
    "papers = {'abstract':[x[0] for x in info],\n",
    "          'id':[x[1] for x in info],\n",
    "          'title':[x[2] for x in info],\n",
    "          'journal':[x[3] for x in info]}\n",
    "cnxn.close()\n",
    "df = pd.DataFrame.from_dict(papers)\n",
    "df.sort_values(by='id', inplace=True)\n",
    "df.head()"
   ]
  },
  {
   "cell_type": "code",
   "execution_count": 3,
   "metadata": {},
   "outputs": [],
   "source": [
    "# Process abstracts by removing non-alpha characters, and lemmatize words\n",
    "\n",
    "wl = WordNetLemmatizer()\n",
    "\n",
    "def parser(title):\n",
    "    \n",
    "    '''Removes any non-alphabetical characters, converts to lower case, and lemmatizes each word in a document'''\n",
    "    \n",
    "    letters = re.sub('[^a-zA-Z]', ' ', title)\n",
    "    letters = letters.lower()\n",
    "    words = re.split('\\s+', letters)\n",
    "    words = [wl.lemmatize(x) for x in words]\n",
    "    return (' '.join(words))\n",
    "\n",
    "df['p_abstract'] = [parser(x) for x in df['abstract']]"
   ]
  },
  {
   "cell_type": "code",
   "execution_count": 6,
   "metadata": {},
   "outputs": [],
   "source": [
    "# Create vectorizer, fit and transform the data set\n",
    "\n",
    "tv = TfidfVectorizer(min_df=50, max_df=0.95, max_features=10000, stop_words='english')\n",
    "features = tv.fit_transform(df['p_abstract'])"
   ]
  },
  {
   "cell_type": "code",
   "execution_count": 7,
   "metadata": {},
   "outputs": [],
   "source": [
    "# Pickle the fit transformer as well as saving the calculated features for future reference\n",
    "\n",
    "pickle.dump(tv, open('../data/vectorizer.csv', 'wb'))\n",
    "sparse.save_npz('../data/features.npz', features)"
   ]
  },
  {
   "cell_type": "code",
   "execution_count": 8,
   "metadata": {},
   "outputs": [],
   "source": [
    "# Calculate the cosine similarity between all elements against all other elements. This is not utilized in the actual app since it is computationally intensive and unnecessary, but is conducted here in order to allow for random sampling for testing clustering\n",
    "\n",
    "cs = cosine_similarity(features, features)"
   ]
  },
  {
   "cell_type": "markdown",
   "metadata": {},
   "source": [
    "### Clustering\n",
    "\n",
    "I am interested in trying to cluster a user's favorited articles because often times researchers will be searching for papers on several different topics at once. Rather than try to match each paper individually, clustering would allow for matching against the overall features of the group, which would help mitigate \"outliers,\" or papers that may have hyper-focused topics. Instead, I am looking to parse more general trends.\n",
    "\n",
    "What I am interested in testing for here is how many papers to \"bolster\" small sample sets with. If a user has only one or two papers saved, then we can find matches to each individual paper fairly easily. Similarly, if there are a large number of favorites, then we can conduct clustering fairly easily (though the resulting clusters may still not be distinct due to the nature of language data). However, in the middle ground, there might be too few papers to cluster well even if there are different topics of interest. To try and correct for this, I add the next x best matches based on cosine similarity calculated previously, and then perform clustering on these bolstered groups. In this way, I know the \"true\" number of clusters (a paper plus its best matches). By finding the number of clusters that the K-Means algorithm gives the highest silhouette score to, I calculate the difference between the best K-Means and the true cluster number and use that as another metric for efficacy.\n",
    "\n",
    "In the following code, z = number of added papers, t = number of random seed papers (i.e. number of true clusters) and y is the number of clusters for the K-Means model. Each permutation was repeated 20 times."
   ]
  },
  {
   "cell_type": "code",
   "execution_count": 9,
   "metadata": {},
   "outputs": [
    {
     "name": "stdout",
     "output_type": "stream",
     "text": [
      "Clustering for X similar papers added for each paper in sample\n",
      "Silhouette Score: [0.27, 0.27, 0.26, 0.25, 0.26]\n",
      "Total difference in estimated clusters: [4.35, 6.85, 7.25, 7.6, 8.55]\n"
     ]
    }
   ],
   "source": [
    "all_scores = []\n",
    "diff = []\n",
    "for z in [3,4,5,6,7]:\n",
    "    z_score = 0\n",
    "    z_diff = 0\n",
    "    for t in [2,3,4,5,6,7]:\n",
    "        max_scores = []\n",
    "        max_n = []\n",
    "        for x in range(20):\n",
    "            papers = []\n",
    "            for blah in range(t):\n",
    "                index = random.randrange(0,18000)\n",
    "                top = sorted(list(cs[index]))[-(z+1):]\n",
    "                papers += [list(cs[index]).index(w) for w in top]\n",
    "            groups = [features[num] for num in papers]\n",
    "            scores = []\n",
    "            for y in range(2,8):\n",
    "                km = KMeans(n_clusters=y)\n",
    "                km.fit(groups)\n",
    "                scores.append(silhouette_score(groups, km.predict(groups)))\n",
    "            max_scores.append(max(scores))\n",
    "            max_n.append(scores.index(max(scores))+2)\n",
    "        z_diff += abs(np.mean(max_n)-t)\n",
    "        z_score += np.mean(max_scores)\n",
    "    all_scores.append(z_score/6)\n",
    "    diff.append(z_diff)\n",
    "print('Clustering for X similar papers added for each paper in sample')\n",
    "print('Silhouette Score:', [round(x,2) for x in all_scores])\n",
    "print('Total difference in estimated clusters:', [round(x,2) for x in diff])"
   ]
  },
  {
   "cell_type": "markdown",
   "metadata": {},
   "source": [
    "From the grid search, we calculate the total silhouette score and total difference in estimated clusters. Index of the resulting lists corresponds to the values of z (number of added papers). From this, we find that smaller is better - as we add more papers, both silhouette score decreases and estimated cluster difference increases, so I opt to use 3 added papers. While it is possible that this may lead to overall worse metrics as compared to no bolstering, I believe it will still provide more benefits for recommendations; in a sense this helps combat overfitting to a small sample size"
   ]
  },
  {
   "cell_type": "code",
   "execution_count": 20,
   "metadata": {},
   "outputs": [
    {
     "data": {
      "image/png": "[encoded data removed]",
      "text/plain": [
       "<Figure size 432x288 with 1 Axes>"
      ]
     },
     "metadata": {
      "needs_background": "light"
     },
     "output_type": "display_data"
    }
   ],
   "source": [
    "plt.hist([sorted(list(x))[-2] for x in cs])\n",
    "plt.title('Top Cosine Similarities')\n",
    "plt.xlabel('Cosine Similarity')\n",
    "plt.ylabel('Count')\n",
    "plt.show()"
   ]
  },
  {
   "cell_type": "markdown",
   "metadata": {},
   "source": [
    "Histogram of cosine similarity scores for all papers in the initial data set. I use this to determine what the threshold score should be for considering a paper a match to one another. From this histogram, I selected 0.3 as the cutoff - while it is on the lower side, I decide to err on the side of inclusivity in order to present more matches. It is often that researchers can gain valuable insight from papers that are more tangentially related, and stronger matches will still be given priority"
   ]
  }
 ],
 "metadata": {
  "kernelspec": {
   "display_name": "Python 3",
   "language": "python",
   "name": "python3"
  },
  "language_info": {
   "codemirror_mode": {
    "name": "ipython",
    "version": 3
   },
   "file_extension": ".py",
   "mimetype": "text/x-python",
   "name": "python",
   "nbconvert_exporter": "python",
   "pygments_lexer": "ipython3",
   "version": "3.7.6"
  }
 },
 "nbformat": 4,
 "nbformat_minor": 4
}
