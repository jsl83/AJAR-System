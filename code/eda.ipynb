{
 "cells": [
  {
   "cell_type": "markdown",
   "metadata": {},
   "source": [
    "# Data Collection and Exploratory Data Analysis\n",
    "\n",
    "The following code was run at the start of the project to collect a large corpus of documents to establish the initial data set. This code is not meant to be run again - the data is saved as a CSV file in this repository to be loaded again if necessary. Data was cleaned to remove articles that did not have sufficient quality (exact steps are in the comments in the code block itself). Cleaned data was inserted into the SQL database"
   ]
  },
  {
   "cell_type": "markdown",
   "metadata": {
    "jupyter": {
     "outputs_hidden": true
    }
   },
   "source": [
    "```\n",
    "# Import relevant libraries\n",
    "import pandas as pd\n",
    "import requests\n",
    "import time\n",
    "import pyodbc\n",
    "from langdetect import detect\n",
    "\n",
    "papers = {'title':[],\n",
    "          'abstract':[],\n",
    "          'authors':[],\n",
    "          'journal':[],\n",
    "          'link':[],\n",
    "          'date':[],\n",
    "          'type':[]}\n",
    "          \n",
    "start = True\n",
    "x = 0\n",
    "\n",
    "# Collect papers from Springer API starting from August 1. Store data in dictionary form which is then converted into a dataframe\n",
    "while start:\n",
    "    data = requests.get(\"http://api.springer.com/metadata/json?api_key=4a6226d4feb9e43bf17f2a83b4cce338&q=type:Journal onlinedatefrom:2020-08-01 onlinedateto:2020-09-01&s=\" + str(x) + \"&p=50\")\n",
    "    ream = data.json()['records']\n",
    "    papers['title'] += [str(z.get('title')) for z in ream]\n",
    "    papers['abstract'] += [str(z.get('abstract')) for z in ream]\n",
    "    papers['link'] += [str(z.get('url')[0].get('value')) for z in ream]\n",
    "    papers['date'] += [str(z.get('publicationDate')) for z in ream]\n",
    "    papers['type'] += [str(z.get('contentType')) for z in ream]\n",
    "    papers['journal'] += [str(z.get('publicationName')) for z in ream]\n",
    "    print(papers['date'][-1])\n",
    "    for paper in ream:\n",
    "        authors = ''\n",
    "        for author in [y.get('creator') for y in paper.get('creators')]:\n",
    "            authors += author + ' | '\n",
    "        authors = authors[:-3]\n",
    "        papers['authors'].append(authors)\n",
    "\n",
    "    if len(ream) < 50:\n",
    "        start = False\n",
    "    else:\n",
    "        time.sleep(3)\n",
    "        x += 50\n",
    "        \n",
    "df = pd.DataFrame.from_dict(papers)\n",
    "\n",
    "def detect_lang(text):\n",
    "    try:\n",
    "        return detect(text)\n",
    "    except:\n",
    "        return 'error'\n",
    "\n",
    "# Data cleaning\n",
    "# Remove non-English entries, papers with empty/symbol filled titles and abstracts. Remove redacted/resubmitted/corrected papers (short abstract lengths). Assign unique ids to each paper\n",
    "\n",
    "df = df.drop_duplicates(subset='title')\n",
    "df = df[['{' not in df['title'][x] and '???' not in df['abstract'][x] for x in df.index]]\n",
    "df = df[[detect_lang(df['title'][x]) == 'en' and detect_lang(df['abstract'][x]) == 'en' and df['date'][x][:4] == '2020' for x in df.index]]\n",
    "df = df[[len(df['abstract'][x]) > 150 for x in df.index]]\n",
    "df.sort_values(by=['date', 'title'], inplace=True)\n",
    "df.reset_index(drop=True, inplace=True)\n",
    "df['id'] = np.arange(1, len(df)+1)\n",
    "\n",
    "# Save to CSV file for easy access in the future if necessary. Save data to SQL database for use by the application\n",
    "df.to_csv('../data/papers.csv',index=False)\n",
    "\n",
    "cnxn = pyodbc.connect('DRIVER={ODBC Driver 17 for SQL Server};SERVER=ga-cc12-s5.database.windows.net;DATABASE=capstone;UID=[REDACTED];PWD=[REDACTED]')\n",
    "cursor = cnxn.cursor()\n",
    "for index, row in df.iterrows():\n",
    "    cursor.execute(\"INSERT INTO papers (title, abstract, authors, journal, link, date, id) values (?,?,?,?,?,?,?)\", row['title'], row['abstract'], row['authors'], row['journal'], row['link'], row['date'], row['id'])\n",
    "cnxn.commit()\n",
    "cursor.close()\n",
    "```"
   ]
  },
  {
   "cell_type": "markdown",
   "metadata": {},
   "source": [
    "# EDA\n",
    "\n",
    "While I was less interested in exploring the data to gain insight, it is still useful to know some basic information about the papers being pulled from the API. Using this information will allow for a better sense of fluctuations of data coming in the future."
   ]
  },
  {
   "cell_type": "code",
   "execution_count": 1,
   "metadata": {},
   "outputs": [],
   "source": [
    "# Import relevant libraries\n",
    "\n",
    "import pandas as pd\n",
    "import numpy as np\n",
    "from matplotlib import pyplot as plt"
   ]
  },
  {
   "cell_type": "code",
   "execution_count": 2,
   "metadata": {},
   "outputs": [
    {
     "data": {
      "text/html": [
       "<div>\n",
       "<style scoped>\n",
       "    .dataframe tbody tr th:only-of-type {\n",
       "        vertical-align: middle;\n",
       "    }\n",
       "\n",
       "    .dataframe tbody tr th {\n",
       "        vertical-align: top;\n",
       "    }\n",
       "\n",
       "    .dataframe thead th {\n",
       "        text-align: right;\n",
       "    }\n",
       "</style>\n",
       "<table border=\"1\" class=\"dataframe\">\n",
       "  <thead>\n",
       "    <tr style=\"text-align: right;\">\n",
       "      <th></th>\n",
       "      <th>title</th>\n",
       "      <th>abstract</th>\n",
       "      <th>authors</th>\n",
       "      <th>journal</th>\n",
       "      <th>link</th>\n",
       "      <th>date</th>\n",
       "      <th>id</th>\n",
       "    </tr>\n",
       "  </thead>\n",
       "  <tbody>\n",
       "    <tr>\n",
       "      <th>0</th>\n",
       "      <td>Applicability of Minifloats for Efficient Calc...</td>\n",
       "      <td>The possibility of the inference of neural net...</td>\n",
       "      <td>Kondrat’ev, A. Yu. | Goncharenko, A. I.</td>\n",
       "      <td>Optoelectronics, Instrumentation and Data Proc...</td>\n",
       "      <td>http://dx.doi.org/10.3103/S8756699020010100</td>\n",
       "      <td>2020-01-01</td>\n",
       "      <td>1</td>\n",
       "    </tr>\n",
       "    <tr>\n",
       "      <th>1</th>\n",
       "      <td>Application of Capacitive Microstructures as A...</td>\n",
       "      <td>This paper first considers an approach based o...</td>\n",
       "      <td>Rybak, A. A. | Nikolaev, N. A. | Kuznetsov, S....</td>\n",
       "      <td>Optoelectronics, Instrumentation and Data Proc...</td>\n",
       "      <td>http://dx.doi.org/10.3103/S8756699020010136</td>\n",
       "      <td>2020-01-01</td>\n",
       "      <td>2</td>\n",
       "    </tr>\n",
       "    <tr>\n",
       "      <th>2</th>\n",
       "      <td>Classification of Seismoacoustic Emission Sour...</td>\n",
       "      <td>A new method is proposed for automatic classif...</td>\n",
       "      <td>Timofeev, A. V. | Groznov, D. I.</td>\n",
       "      <td>Optoelectronics, Instrumentation and Data Proc...</td>\n",
       "      <td>http://dx.doi.org/10.3103/S8756699020010070</td>\n",
       "      <td>2020-01-01</td>\n",
       "      <td>3</td>\n",
       "    </tr>\n",
       "    <tr>\n",
       "      <th>3</th>\n",
       "      <td>Construction of Constitutive Equations for Ort...</td>\n",
       "      <td>Constitutive steady-state creep equations are ...</td>\n",
       "      <td>Banshchikova, I. A.</td>\n",
       "      <td>Journal of Applied Mechanics and Technical Phy...</td>\n",
       "      <td>http://dx.doi.org/10.1134/S0021894420010101</td>\n",
       "      <td>2020-01-01</td>\n",
       "      <td>4</td>\n",
       "    </tr>\n",
       "    <tr>\n",
       "      <th>4</th>\n",
       "      <td>Delamination of a Coating from an Elastic Subs...</td>\n",
       "      <td>Known models were used to investigate the dela...</td>\n",
       "      <td>Vatul’yan, A. O. | Morozov, K. L.</td>\n",
       "      <td>Journal of Applied Mechanics and Technical Phy...</td>\n",
       "      <td>http://dx.doi.org/10.1134/S0021894420010125</td>\n",
       "      <td>2020-01-01</td>\n",
       "      <td>5</td>\n",
       "    </tr>\n",
       "  </tbody>\n",
       "</table>\n",
       "</div>"
      ],
      "text/plain": [
       "                                               title  \\\n",
       "0  Applicability of Minifloats for Efficient Calc...   \n",
       "1  Application of Capacitive Microstructures as A...   \n",
       "2  Classification of Seismoacoustic Emission Sour...   \n",
       "3  Construction of Constitutive Equations for Ort...   \n",
       "4  Delamination of a Coating from an Elastic Subs...   \n",
       "\n",
       "                                            abstract  \\\n",
       "0  The possibility of the inference of neural net...   \n",
       "1  This paper first considers an approach based o...   \n",
       "2  A new method is proposed for automatic classif...   \n",
       "3  Constitutive steady-state creep equations are ...   \n",
       "4  Known models were used to investigate the dela...   \n",
       "\n",
       "                                             authors  \\\n",
       "0            Kondrat’ev, A. Yu. | Goncharenko, A. I.   \n",
       "1  Rybak, A. A. | Nikolaev, N. A. | Kuznetsov, S....   \n",
       "2                   Timofeev, A. V. | Groznov, D. I.   \n",
       "3                                Banshchikova, I. A.   \n",
       "4                  Vatul’yan, A. O. | Morozov, K. L.   \n",
       "\n",
       "                                             journal  \\\n",
       "0  Optoelectronics, Instrumentation and Data Proc...   \n",
       "1  Optoelectronics, Instrumentation and Data Proc...   \n",
       "2  Optoelectronics, Instrumentation and Data Proc...   \n",
       "3  Journal of Applied Mechanics and Technical Phy...   \n",
       "4  Journal of Applied Mechanics and Technical Phy...   \n",
       "\n",
       "                                          link        date  id  \n",
       "0  http://dx.doi.org/10.3103/S8756699020010100  2020-01-01   1  \n",
       "1  http://dx.doi.org/10.3103/S8756699020010136  2020-01-01   2  \n",
       "2  http://dx.doi.org/10.3103/S8756699020010070  2020-01-01   3  \n",
       "3  http://dx.doi.org/10.1134/S0021894420010101  2020-01-01   4  \n",
       "4  http://dx.doi.org/10.1134/S0021894420010125  2020-01-01   5  "
      ]
     },
     "execution_count": 2,
     "metadata": {},
     "output_type": "execute_result"
    }
   ],
   "source": [
    "# Load data set from the CSV file\n",
    "\n",
    "clean_df = pd.read_csv('../data/papers.csv')\n",
    "clean_df.head()"
   ]
  },
  {
   "cell_type": "code",
   "execution_count": 3,
   "metadata": {},
   "outputs": [
    {
     "data": {
      "image/png": "[encoded data removed]",
      "text/plain": [
       "<Figure size 432x288 with 1 Axes>"
      ]
     },
     "metadata": {
      "needs_background": "light"
     },
     "output_type": "display_data"
    }
   ],
   "source": [
    "# Histogram of how represented each journal is in the data set. Most journals only had one or two articles, resulting in a very left-skewed distribution\n",
    "\n",
    "dist = [len(clean_df[clean_df['journal'] == x]) for x in set(clean_df['journal'])]\n",
    "dist.sort()\n",
    "plt.hist(dist[:2000], bins=16)\n",
    "plt.title('Papers per Journal')\n",
    "plt.ylabel('Number of Journals')\n",
    "plt.xlabel('Number of Papers')\n",
    "plt.show()"
   ]
  },
  {
   "cell_type": "code",
   "execution_count": 5,
   "metadata": {},
   "outputs": [
    {
     "data": {
      "image/png": "[encoded data removed]",
      "text/plain": [
       "<Figure size 432x288 with 1 Axes>"
      ]
     },
     "metadata": {
      "needs_background": "light"
     },
     "output_type": "display_data"
    }
   ],
   "source": [
    "# Distribution of papers published over time. There is a clear seasonality to the data - publications are fewer during the weekend as would be expected. On average, a given week day has around 800 papers published\n",
    "\n",
    "dates = []\n",
    "paper_no = []\n",
    "for x in range(1,24):\n",
    "    if x < 10:\n",
    "        date = '2020-08-0' + str(x)\n",
    "    else:\n",
    "        date = '2020-08-' + str(x)\n",
    "    paper_no.append(len(clean_df[clean_df['date']==date]))\n",
    "    dates.append(date)\n",
    "plt.bar(np.arange(1,len(paper_no)+1), paper_no)\n",
    "plt.title('Papers per Day')\n",
    "plt.ylabel('Number of Papers')\n",
    "plt.xlabel('Day in Aug. 2020')\n",
    "plt.show()"
   ]
  }
 ],
 "metadata": {
  "kernelspec": {
   "display_name": "Python 3",
   "language": "python",
   "name": "python3"
  },
  "language_info": {
   "codemirror_mode": {
    "name": "ipython",
    "version": 3
   },
   "file_extension": ".py",
   "mimetype": "text/x-python",
   "name": "python",
   "nbconvert_exporter": "python",
   "pygments_lexer": "ipython3",
   "version": "3.7.6"
  }
 },
 "nbformat": 4,
 "nbformat_minor": 4
}
